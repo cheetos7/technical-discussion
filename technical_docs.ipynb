{
  "nbformat": 4,
  "nbformat_minor": 0,
  "metadata": {
    "colab": {
      "provenance": [],
      "authorship_tag": "ABX9TyPjOpwhBGRmRY0UrxFK1y2u",
      "include_colab_link": true
    },
    "kernelspec": {
      "name": "python3",
      "display_name": "Python 3"
    },
    "language_info": {
      "name": "python"
    }
  },
  "cells": [
    {
      "cell_type": "markdown",
      "metadata": {
        "id": "view-in-github",
        "colab_type": "text"
      },
      "source": [
        "<a href=\"https://colab.research.google.com/github/cheetos7/technical-discussion/blob/main/technical_docs.ipynb\" target=\"_parent\"><img src=\"https://colab.research.google.com/assets/colab-badge.svg\" alt=\"Open In Colab\"/></a>"
      ]
    },
    {
      "cell_type": "markdown",
      "source": [
        "## Ingest"
      ],
      "metadata": {
        "id": "LyiUiyoYQqJ2"
      }
    },
    {
      "cell_type": "code",
      "execution_count": null,
      "metadata": {
        "id": "O4SiOoogHRhQ"
      },
      "outputs": [],
      "source": [
        "def hello():\n",
        "  return\"hi\"\n",
        "hello()\n",
        "\n",
        "'hi'\n",
        "\n"
      ]
    },
    {
      "cell_type": "markdown",
      "source": [
        "## EDA"
      ],
      "metadata": {
        "id": "tTxk8piNS-d1"
      }
    },
    {
      "cell_type": "code",
      "source": [],
      "metadata": {
        "id": "VrSX7hBGTWdP"
      },
      "execution_count": null,
      "outputs": []
    },
    {
      "cell_type": "markdown",
      "source": [
        "### this is a markdown heading\n",
        "\n",
        "* one\n",
        "* two"
      ],
      "metadata": {
        "id": "iClW8ThvTga1"
      }
    },
    {
      "cell_type": "markdown",
      "source": [
        "## Modeling"
      ],
      "metadata": {
        "id": "H46EWBR1TEaN"
      }
    },
    {
      "cell_type": "code",
      "source": [],
      "metadata": {
        "id": "WkmZsKolTXnN"
      },
      "execution_count": null,
      "outputs": []
    },
    {
      "cell_type": "markdown",
      "source": [
        "## Conclusion"
      ],
      "metadata": {
        "id": "L8FvZEI_TJze"
      }
    },
    {
      "cell_type": "code",
      "source": [],
      "metadata": {
        "id": "A8MgWpznTMqA"
      },
      "execution_count": null,
      "outputs": []
    }
  ]
}